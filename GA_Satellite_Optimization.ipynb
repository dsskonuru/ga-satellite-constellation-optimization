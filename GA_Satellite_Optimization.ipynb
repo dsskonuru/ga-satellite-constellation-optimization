{
  "nbformat": 4,
  "nbformat_minor": 0,
  "metadata": {
    "colab": {
      "name": "GA-Satellite Optimization.ipynb",
      "provenance": [],
      "collapsed_sections": [],
      "authorship_tag": "ABX9TyOMFbptz2FNlTjSJnz/BhRy",
      "include_colab_link": true
    },
    "kernelspec": {
      "name": "python3",
      "display_name": "Python 3"
    }
  },
  "cells": [
    {
      "cell_type": "markdown",
      "metadata": {
        "id": "view-in-github",
        "colab_type": "text"
      },
      "source": [
        "<a href=\"https://colab.research.google.com/github/dsskonuru/ga-satellite-constellation-optimization/blob/master/GA_Satellite_Optimization.ipynb\" target=\"_parent\"><img src=\"https://colab.research.google.com/assets/colab-badge.svg\" alt=\"Open In Colab\"/></a>"
      ]
    },
    {
      "cell_type": "code",
      "metadata": {
        "id": "JnFcCgU3bqIg",
        "colab_type": "code",
        "colab": {}
      },
      "source": [
        "N = 12  # of satellites\n",
        "k = 4  # of subconstellations\n",
        "subconstellation_size = N // k  # satellites per subconstellation"
      ],
      "execution_count": 0,
      "outputs": []
    },
    {
      "cell_type": "markdown",
      "metadata": {
        "id": "-kgOeH_lV_iB",
        "colab_type": "text"
      },
      "source": [
        ">$\\text{Ising:} \\qquad  E(\\bf{s}|\\bf{h},\\bf{J})\n",
        "= \\left\\{ \\sum_{i=1}^N h_i s_i + \\sum_{i<j}^N J_{i,j} s_i s_j  \\right\\}$\n",
        "\n",
        ">$\\small E \\quad {\\longrightarrow} \\quad Objective \\; function \\; (to \\; be \\; minimized) \n",
        "\\\\ \\small s_i \\quad {\\longrightarrow} \\quad Constellation \n",
        "\\\\ \\small h_i \\quad {\\longrightarrow} \\quad Coverage \\; of \\; the \\; constellation\n",
        "\\\\ \\small J_{i,j} \\quad {\\longrightarrow} \\quad Penality \\; for \\; pairs \\; having \\; a \\; satellite \\; in \\; common$"
      ]
    },
    {
      "cell_type": "code",
      "metadata": {
        "id": "WyJQnYPTc3Hp",
        "colab_type": "code",
        "outputId": "2c0206bb-229a-4dbc-876f-7fe7c8e790f1",
        "colab": {
          "base_uri": "https://localhost:8080/",
          "height": 34
        }
      },
      "source": [
        "import numpy as np\n",
        "\n",
        "coverage = {}\n",
        "for i in range(N):\n",
        "  coverage[i] = np.random.randint(0, 100)/100\n",
        "print(coverage)\n",
        "\n",
        "score_threshold = 0.4"
      ],
      "execution_count": 24,
      "outputs": [
        {
          "output_type": "stream",
          "text": [
            "{0: 0.23, 1: 0.73, 2: 0.38, 3: 0.68, 4: 0.36, 5: 0.62, 6: 0.08, 7: 0.99, 8: 0.82, 9: 0.1, 10: 0.16, 11: 0.0}\n"
          ],
          "name": "stdout"
        }
      ]
    },
    {
      "cell_type": "code",
      "metadata": {
        "id": "bd_kJmVmrMms",
        "colab_type": "code",
        "colab": {
          "base_uri": "https://localhost:8080/",
          "height": 71
        },
        "outputId": "f42d1c77-80ff-46b6-e0d4-2cc3a7c326a3"
      },
      "source": [
        "import itertools\n",
        "\n",
        "subconstellations = {} # create dict of subconstellations and its coverage\n",
        "\n",
        "for subconstellation in itertools.combinations(range(N), N//k):\n",
        "    score = sum(coverage[v] for v in subconstellation) / subconstellation_size\n",
        "\n",
        "    if score < score_threshold:\n",
        "        continue\n",
        "\n",
        "    subconstellations[frozenset(subconstellation)] = score\n",
        "\n",
        "print(subconstellations)    \n",
        "print(len(subconstellations))"
      ],
      "execution_count": 25,
      "outputs": [
        {
          "output_type": "stream",
          "text": [
            "{frozenset({0, 1, 2}): 0.4466666666666666, frozenset({0, 1, 3}): 0.5466666666666667, frozenset({0, 1, 4}): 0.43999999999999995, frozenset({0, 1, 5}): 0.5266666666666667, frozenset({0, 1, 7}): 0.65, frozenset({0, 1, 8}): 0.5933333333333333, frozenset({0, 2, 3}): 0.43, frozenset({0, 2, 5}): 0.41, frozenset({0, 2, 7}): 0.5333333333333333, frozenset({0, 8, 2}): 0.4766666666666666, frozenset({0, 3, 4}): 0.42333333333333334, frozenset({0, 3, 5}): 0.51, frozenset({0, 3, 7}): 0.6333333333333333, frozenset({0, 8, 3}): 0.5766666666666667, frozenset({0, 4, 5}): 0.4033333333333333, frozenset({0, 4, 7}): 0.5266666666666667, frozenset({0, 8, 4}): 0.47, frozenset({0, 5, 7}): 0.6133333333333333, frozenset({0, 8, 5}): 0.5566666666666666, frozenset({0, 6, 7}): 0.43333333333333335, frozenset({0, 8, 7}): 0.68, frozenset({0, 9, 7}): 0.44, frozenset({0, 10, 7}): 0.45999999999999996, frozenset({0, 11, 7}): 0.4066666666666667, frozenset({0, 8, 10}): 0.4033333333333333, frozenset({1, 2, 3}): 0.5966666666666667, frozenset({1, 2, 4}): 0.48999999999999994, frozenset({1, 2, 5}): 0.5766666666666667, frozenset({1, 2, 7}): 0.6999999999999998, frozenset({8, 1, 2}): 0.6433333333333332, frozenset({1, 2, 9}): 0.4033333333333333, frozenset({1, 2, 10}): 0.4233333333333333, frozenset({1, 3, 4}): 0.59, frozenset({1, 3, 5}): 0.6766666666666667, frozenset({1, 3, 6}): 0.49666666666666676, frozenset({1, 3, 7}): 0.8000000000000002, frozenset({8, 1, 3}): 0.7433333333333333, frozenset({1, 3, 9}): 0.5033333333333334, frozenset({1, 10, 3}): 0.5233333333333333, frozenset({11, 1, 3}): 0.47000000000000003, frozenset({1, 4, 5}): 0.57, frozenset({1, 4, 7}): 0.6933333333333334, frozenset({8, 1, 4}): 0.6366666666666666, frozenset({1, 10, 4}): 0.4166666666666666, frozenset({1, 5, 6}): 0.47666666666666674, frozenset({1, 5, 7}): 0.7799999999999999, frozenset({8, 1, 5}): 0.7233333333333333, frozenset({1, 5, 9}): 0.4833333333333334, frozenset({1, 10, 5}): 0.5033333333333333, frozenset({1, 11, 5}): 0.45, frozenset({1, 6, 7}): 0.6, frozenset({8, 1, 6}): 0.5433333333333333, frozenset({8, 1, 7}): 0.8466666666666667, frozenset({1, 9, 7}): 0.6066666666666667, frozenset({1, 10, 7}): 0.6266666666666666, frozenset({1, 11, 7}): 0.5733333333333334, frozenset({8, 1, 9}): 0.5499999999999999, frozenset({8, 1, 10}): 0.57, frozenset({8, 1, 11}): 0.5166666666666666, frozenset({2, 3, 4}): 0.47333333333333333, frozenset({2, 3, 5}): 0.56, frozenset({2, 3, 7}): 0.6833333333333332, frozenset({8, 2, 3}): 0.6266666666666666, frozenset({10, 2, 3}): 0.4066666666666667, frozenset({2, 4, 5}): 0.4533333333333333, frozenset({2, 4, 7}): 0.5766666666666667, frozenset({8, 2, 4}): 0.52, frozenset({2, 5, 7}): 0.6633333333333333, frozenset({8, 2, 5}): 0.6066666666666666, frozenset({2, 6, 7}): 0.48333333333333334, frozenset({8, 2, 6}): 0.4266666666666667, frozenset({8, 2, 7}): 0.73, frozenset({9, 2, 7}): 0.49000000000000005, frozenset({2, 10, 7}): 0.51, frozenset({2, 11, 7}): 0.4566666666666667, frozenset({8, 9, 2}): 0.43333333333333335, frozenset({8, 2, 10}): 0.4533333333333333, frozenset({3, 4, 5}): 0.5533333333333333, frozenset({3, 4, 7}): 0.6766666666666667, frozenset({8, 3, 4}): 0.62, frozenset({3, 5, 6}): 0.46, frozenset({3, 5, 7}): 0.7633333333333333, frozenset({8, 3, 5}): 0.7066666666666667, frozenset({9, 3, 5}): 0.46666666666666673, frozenset({10, 3, 5}): 0.48666666666666664, frozenset({11, 3, 5}): 0.43333333333333335, frozenset({3, 6, 7}): 0.5833333333333334, frozenset({8, 3, 6}): 0.5266666666666667, frozenset({8, 3, 7}): 0.83, frozenset({9, 3, 7}): 0.59, frozenset({10, 3, 7}): 0.61, frozenset({11, 3, 7}): 0.5566666666666666, frozenset({8, 9, 3}): 0.5333333333333333, frozenset({8, 10, 3}): 0.5533333333333333, frozenset({8, 11, 3}): 0.5, frozenset({4, 5, 7}): 0.6566666666666666, frozenset({8, 4, 5}): 0.6, frozenset({4, 6, 7}): 0.4766666666666666, frozenset({8, 4, 6}): 0.42, frozenset({8, 4, 7}): 0.7233333333333333, frozenset({9, 4, 7}): 0.4833333333333334, frozenset({10, 4, 7}): 0.5033333333333333, frozenset({11, 4, 7}): 0.45, frozenset({8, 9, 4}): 0.4266666666666667, frozenset({8, 10, 4}): 0.4466666666666666, frozenset({5, 6, 7}): 0.5633333333333334, frozenset({8, 5, 6}): 0.5066666666666667, frozenset({8, 5, 7}): 0.8099999999999999, frozenset({9, 5, 7}): 0.57, frozenset({10, 5, 7}): 0.59, frozenset({11, 5, 7}): 0.5366666666666666, frozenset({8, 9, 5}): 0.5133333333333333, frozenset({8, 10, 5}): 0.5333333333333333, frozenset({8, 11, 5}): 0.48, frozenset({8, 6, 7}): 0.63, frozenset({10, 6, 7}): 0.41, frozenset({8, 9, 7}): 0.6366666666666667, frozenset({8, 10, 7}): 0.6566666666666666, frozenset({8, 11, 7}): 0.6033333333333334, frozenset({9, 10, 7}): 0.4166666666666667}\n",
            "120\n"
          ],
          "name": "stdout"
        }
      ]
    },
    {
      "cell_type": "code",
      "metadata": {
        "colab_type": "code",
        "id": "uTVK9M_JDJjQ",
        "colab": {}
      },
      "source": [
        "def init_pop(sol_per_pop):\n",
        "  population = []\n",
        "  for i in range(sol_per_pop):\n",
        "    constellation = [np.random.choice(list(subconstellations.keys())) for j in range(k)]\n",
        "    population.append(constellation)\n",
        "  return population\n"
      ],
      "execution_count": 0,
      "outputs": []
    },
    {
      "cell_type": "code",
      "metadata": {
        "id": "42_46MUeDogW",
        "colab_type": "code",
        "colab": {
          "base_uri": "https://localhost:8080/",
          "height": 71
        },
        "outputId": "a0e79c9c-7c98-4c71-af57-29c2bb73fc42"
      },
      "source": [
        "sol_per_pop = 10\n",
        "\n",
        "new_population = init_pop(sol_per_pop)\n",
        "\n",
        "print(new_population)\n",
        "print(len(new_population))"
      ],
      "execution_count": 27,
      "outputs": [
        {
          "output_type": "stream",
          "text": [
            "[[frozenset({8, 2, 5}), frozenset({2, 4, 5}), frozenset({1, 2, 4}), frozenset({11, 5, 7})], [frozenset({8, 2, 6}), frozenset({8, 1, 3}), frozenset({0, 1, 5}), frozenset({8, 11, 7})], [frozenset({8, 3, 4}), frozenset({8, 1, 10}), frozenset({11, 5, 7}), frozenset({8, 1, 5})], [frozenset({8, 4, 6}), frozenset({9, 4, 7}), frozenset({1, 4, 7}), frozenset({8, 1, 11})], [frozenset({0, 8, 2}), frozenset({8, 1, 4}), frozenset({0, 3, 5}), frozenset({2, 3, 4})], [frozenset({0, 3, 7}), frozenset({10, 3, 7}), frozenset({3, 5, 6}), frozenset({0, 1, 4})], [frozenset({3, 5, 7}), frozenset({3, 4, 7}), frozenset({9, 5, 7}), frozenset({10, 5, 7})], [frozenset({8, 10, 4}), frozenset({0, 8, 4}), frozenset({0, 3, 7}), frozenset({0, 1, 2})], [frozenset({10, 6, 7}), frozenset({8, 1, 6}), frozenset({2, 10, 7}), frozenset({0, 8, 2})], [frozenset({8, 1, 10}), frozenset({11, 4, 7}), frozenset({0, 3, 7}), frozenset({1, 5, 7})]]\n",
            "10\n"
          ],
          "name": "stdout"
        }
      ]
    },
    {
      "cell_type": "code",
      "metadata": {
        "id": "Ku23lgn-vc9z",
        "colab_type": "code",
        "colab": {}
      },
      "source": [
        "def cal_fitness(population):\n",
        "  fitness = []\n",
        "\n",
        "  for con in population:\n",
        "    coverage = sum([subconstellations[subcon] for subcon in con])\n",
        "\n",
        "    # penalty multiple subcons sharing the same satellite\n",
        "    for a, b in itertools.combinations(con, 2): \n",
        "      if not a.isdisjoint(b):\n",
        "        coverage-=1\n",
        "\n",
        "    fitness.append(coverage)\n",
        "      \n",
        "  return fitness"
      ],
      "execution_count": 0,
      "outputs": []
    },
    {
      "cell_type": "code",
      "metadata": {
        "id": "0ndiZvU-fGQR",
        "colab_type": "code",
        "outputId": "83d9ec6a-fb49-4825-b8fb-e4668838ca74",
        "colab": {
          "base_uri": "https://localhost:8080/",
          "height": 54
        }
      },
      "source": [
        "fitness = cal_fitness(new_population)\n",
        "print(fitness)"
      ],
      "execution_count": 29,
      "outputs": [
        {
          "output_type": "stream",
          "text": [
            "[-2.9133333333333336, -1.6999999999999997, -1.5500000000000003, -2.8866666666666667, -2.9033333333333333, -1.856666666666667, -3.4000000000000004, -2.003333333333334, -2.06, -1.5666666666666669]\n"
          ],
          "name": "stdout"
        }
      ]
    },
    {
      "cell_type": "code",
      "metadata": {
        "id": "J9pCZF5DMLkr",
        "colab_type": "code",
        "colab": {}
      },
      "source": [
        "def select_mating_pool(population, fitness, num_parents):\n",
        "    # Selecting the best individuals in the current generation as parents for producing the offspring of the next generation.\n",
        "    parents = []\n",
        "    for parent_num in range(num_parents):\n",
        "        max_fitness_idx = fitness.index(max(fitness))\n",
        "        parents.append(population[max_fitness_idx])\n",
        "        fitness[max_fitness_idx] = -999\n",
        "    return parents"
      ],
      "execution_count": 0,
      "outputs": []
    },
    {
      "cell_type": "code",
      "metadata": {
        "id": "m6AfELsOO76O",
        "colab_type": "code",
        "outputId": "288f3f11-5ceb-4177-9f54-510d098ea7ad",
        "colab": {
          "base_uri": "https://localhost:8080/",
          "height": 71
        }
      },
      "source": [
        "num_parents_mating = sol_per_pop // 2\n",
        "parents = select_mating_pool(new_population, fitness, num_parents_mating)\n",
        "\n",
        "print(parents)\n",
        "len(parents)"
      ],
      "execution_count": 31,
      "outputs": [
        {
          "output_type": "stream",
          "text": [
            "[[frozenset({8, 3, 4}), frozenset({8, 1, 10}), frozenset({11, 5, 7}), frozenset({8, 1, 5})], [frozenset({8, 1, 10}), frozenset({11, 4, 7}), frozenset({0, 3, 7}), frozenset({1, 5, 7})], [frozenset({8, 2, 6}), frozenset({8, 1, 3}), frozenset({0, 1, 5}), frozenset({8, 11, 7})], [frozenset({0, 3, 7}), frozenset({10, 3, 7}), frozenset({3, 5, 6}), frozenset({0, 1, 4})], [frozenset({8, 10, 4}), frozenset({0, 8, 4}), frozenset({0, 3, 7}), frozenset({0, 1, 2})]]\n"
          ],
          "name": "stdout"
        },
        {
          "output_type": "execute_result",
          "data": {
            "text/plain": [
              "5"
            ]
          },
          "metadata": {
            "tags": []
          },
          "execution_count": 31
        }
      ]
    },
    {
      "cell_type": "code",
      "metadata": {
        "id": "TWmSvix-MSXU",
        "colab_type": "code",
        "colab": {}
      },
      "source": [
        "def crossover(parents, offspring_size):\n",
        "    offsprings = []\n",
        "    # The point at which crossover takes place between two parents. Usually it is at the center.\n",
        "    crossover_point = np.random.randint(k)\n",
        "\n",
        "    for i in range(offspring_size):\n",
        "        # Index of the first parent to mate.\n",
        "        parent1_idx = i%len(parents)\n",
        "        # Index of the second parent to mate.\n",
        "        parent2_idx = (i+1)%len(parents)\n",
        "        offspring = parents[parent1_idx][:crossover_point]+parents[parent2_idx][crossover_point:]\n",
        "        offsprings.append(offspring)\n",
        "\n",
        "    return offsprings"
      ],
      "execution_count": 0,
      "outputs": []
    },
    {
      "cell_type": "code",
      "metadata": {
        "id": "r8D4s6ZUPcFa",
        "colab_type": "code",
        "outputId": "8f160167-5cfc-4ca8-e0f0-05ffb17220d9",
        "colab": {
          "base_uri": "https://localhost:8080/",
          "height": 71
        }
      },
      "source": [
        "offspring_crossover = crossover(parents, offspring_size=sol_per_pop-len(parents))\n",
        "\n",
        "print(offspring_crossover)\n",
        "len(offspring_crossover)"
      ],
      "execution_count": 33,
      "outputs": [
        {
          "output_type": "stream",
          "text": [
            "[[frozenset({8, 3, 4}), frozenset({8, 1, 10}), frozenset({0, 3, 7}), frozenset({1, 5, 7})], [frozenset({8, 1, 10}), frozenset({11, 4, 7}), frozenset({0, 1, 5}), frozenset({8, 11, 7})], [frozenset({8, 2, 6}), frozenset({8, 1, 3}), frozenset({3, 5, 6}), frozenset({0, 1, 4})], [frozenset({0, 3, 7}), frozenset({10, 3, 7}), frozenset({0, 3, 7}), frozenset({0, 1, 2})], [frozenset({8, 10, 4}), frozenset({0, 8, 4}), frozenset({11, 5, 7}), frozenset({8, 1, 5})]]\n"
          ],
          "name": "stdout"
        },
        {
          "output_type": "execute_result",
          "data": {
            "text/plain": [
              "5"
            ]
          },
          "metadata": {
            "tags": []
          },
          "execution_count": 33
        }
      ]
    },
    {
      "cell_type": "code",
      "metadata": {
        "id": "je1HIDKgMrlt",
        "colab_type": "code",
        "colab": {}
      },
      "source": [
        "def mutation(offspring_crossover):\n",
        "    # Mutation changes a single gene in each offspring randomly.\n",
        "    for idx in range(len(offspring_crossover)):\n",
        "        # The random value to be added to the gene.\n",
        "        random_idx = np.random.randint(N*k)\n",
        "        random_value = np.random.choice(list(subconstellations.keys()))\n",
        "        offspring_crossover[idx] = offspring_crossover[idx][:random_idx] + [random_value] + offspring_crossover[idx][random_idx+1:]\n",
        "    return offspring_crossover"
      ],
      "execution_count": 0,
      "outputs": []
    },
    {
      "cell_type": "code",
      "metadata": {
        "id": "QXZO6WEPQEPg",
        "colab_type": "code",
        "outputId": "8cb3eeb7-188f-4891-9cf9-bf90d8976315",
        "colab": {
          "base_uri": "https://localhost:8080/",
          "height": 71
        }
      },
      "source": [
        "offspring_mutation = mutation(offspring_crossover)\n",
        "\n",
        "print(offspring_mutation)\n",
        "print(len(offspring_mutation))"
      ],
      "execution_count": 35,
      "outputs": [
        {
          "output_type": "stream",
          "text": [
            "[[frozenset({8, 3, 4}), frozenset({8, 1, 10}), frozenset({0, 3, 7}), frozenset({1, 5, 7}), frozenset({2, 3, 5})], [frozenset({8, 1, 10}), frozenset({11, 4, 7}), frozenset({0, 1, 5}), frozenset({8, 11, 7}), frozenset({8, 10, 3})], [frozenset({8, 2, 6}), frozenset({8, 1, 3}), frozenset({3, 5, 6}), frozenset({0, 1, 4}), frozenset({8, 1, 4})], [frozenset({0, 3, 7}), frozenset({10, 3, 7}), frozenset({0, 3, 7}), frozenset({0, 1, 2}), frozenset({0, 3, 4})], [frozenset({8, 10, 4}), frozenset({0, 8, 4}), frozenset({11, 5, 7}), frozenset({8, 1, 5}), frozenset({2, 4, 7})]]\n",
            "5\n"
          ],
          "name": "stdout"
        }
      ]
    },
    {
      "cell_type": "code",
      "metadata": {
        "id": "6XDGLLitRSB4",
        "colab_type": "code",
        "outputId": "7f052353-7bdf-4aba-9bf5-42f8e142d61f",
        "colab": {
          "base_uri": "https://localhost:8080/",
          "height": 71
        }
      },
      "source": [
        "new_population = parents + offspring_mutation\n",
        "\n",
        "print(new_population)\n",
        "len(new_population)"
      ],
      "execution_count": 36,
      "outputs": [
        {
          "output_type": "stream",
          "text": [
            "[[frozenset({8, 3, 4}), frozenset({8, 1, 10}), frozenset({11, 5, 7}), frozenset({8, 1, 5})], [frozenset({8, 1, 10}), frozenset({11, 4, 7}), frozenset({0, 3, 7}), frozenset({1, 5, 7})], [frozenset({8, 2, 6}), frozenset({8, 1, 3}), frozenset({0, 1, 5}), frozenset({8, 11, 7})], [frozenset({0, 3, 7}), frozenset({10, 3, 7}), frozenset({3, 5, 6}), frozenset({0, 1, 4})], [frozenset({8, 10, 4}), frozenset({0, 8, 4}), frozenset({0, 3, 7}), frozenset({0, 1, 2})], [frozenset({8, 3, 4}), frozenset({8, 1, 10}), frozenset({0, 3, 7}), frozenset({1, 5, 7}), frozenset({2, 3, 5})], [frozenset({8, 1, 10}), frozenset({11, 4, 7}), frozenset({0, 1, 5}), frozenset({8, 11, 7}), frozenset({8, 10, 3})], [frozenset({8, 2, 6}), frozenset({8, 1, 3}), frozenset({3, 5, 6}), frozenset({0, 1, 4}), frozenset({8, 1, 4})], [frozenset({0, 3, 7}), frozenset({10, 3, 7}), frozenset({0, 3, 7}), frozenset({0, 1, 2}), frozenset({0, 3, 4})], [frozenset({8, 10, 4}), frozenset({0, 8, 4}), frozenset({11, 5, 7}), frozenset({8, 1, 5}), frozenset({2, 4, 7})]]\n"
          ],
          "name": "stdout"
        },
        {
          "output_type": "execute_result",
          "data": {
            "text/plain": [
              "10"
            ]
          },
          "metadata": {
            "tags": []
          },
          "execution_count": 36
        }
      ]
    },
    {
      "cell_type": "code",
      "metadata": {
        "id": "Q34xGqaOMVft",
        "colab_type": "code",
        "colab": {}
      },
      "source": [
        "sol_per_pop = 25\n",
        "num_generations = 25000\n",
        "\n",
        "fitness_g = []\n",
        "new_population = init_pop(sol_per_pop)\n",
        "\n",
        "for generation in range(num_generations):\n",
        "    \n",
        "    # Measuring the fitness of each chromosome in the population.\n",
        "    fitness = cal_fitness(new_population)\n",
        "\n",
        "    # Selecting the best parents in the population for mating.\n",
        "    parents = select_mating_pool(new_population, fitness, num_parents_mating)\n",
        "\n",
        "    # Generating next generation using crossover.\n",
        "    offspring_crossover = crossover(parents, offspring_size=sol_per_pop-len(parents))\n",
        "\n",
        "    # Adding some variations to the offsrping using mutation.\n",
        "    offspring_mutation = mutation(offspring_crossover)\n",
        "\n",
        "    # Creating the new population based on the parents and offspring.\n",
        "    new_population = parents + offspring_mutation\n",
        "\n",
        "    fitness_g.append(max(fitness))\n",
        "\n",
        "# Getting the best solution after iterating finishing all generations.\n",
        "fitness = cal_fitness(new_population)\n",
        "# Then return the index of that solution corresponding to the best fitness.\n",
        "best_match_idx = np.where(fitness == np.max(fitness))[0][0]"
      ],
      "execution_count": 0,
      "outputs": []
    },
    {
      "cell_type": "code",
      "metadata": {
        "id": "DYMyiDPQGETo",
        "colab_type": "code",
        "colab": {
          "base_uri": "https://localhost:8080/",
          "height": 51
        },
        "outputId": "142c0311-a706-48f5-c7bf-be2aed1062c6"
      },
      "source": [
        "print(max(fitness))\n",
        "print(new_population[best_match_idx])"
      ],
      "execution_count": 38,
      "outputs": [
        {
          "output_type": "stream",
          "text": [
            "1.2466666666666661\n",
            "[frozenset({1, 3, 4}), frozenset({0, 8, 5}), frozenset({1, 3, 4}), frozenset({2, 10, 7})]\n"
          ],
          "name": "stdout"
        }
      ]
    },
    {
      "cell_type": "code",
      "metadata": {
        "id": "HnFmNeZPt3K2",
        "colab_type": "code",
        "outputId": "21691551-1efa-4432-cb51-877f2e5bb70a",
        "colab": {
          "base_uri": "https://localhost:8080/",
          "height": 282
        }
      },
      "source": [
        "import matplotlib.pyplot as plt\n",
        "\n",
        "plt.plot(fitness_g)"
      ],
      "execution_count": 39,
      "outputs": [
        {
          "output_type": "execute_result",
          "data": {
            "text/plain": [
              "[<matplotlib.lines.Line2D at 0x7f982b7bf0f0>]"
            ]
          },
          "metadata": {
            "tags": []
          },
          "execution_count": 39
        },
        {
          "output_type": "display_data",
          "data": {
            "image/png": "[encoded data removed]",
            "text/plain": [
              "<Figure size 432x288 with 1 Axes>"
            ]
          },
          "metadata": {
            "tags": [],
            "needs_background": "light"
          }
        }
      ]
    }
  ]
}